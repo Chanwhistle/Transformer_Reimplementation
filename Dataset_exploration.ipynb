{
  "nbformat": 4,
  "nbformat_minor": 0,
  "metadata": {
    "colab": {
      "provenance": [],
      "authorship_tag": "ABX9TyPtUP8GO6q8ASWjszpuN1nm",
      "include_colab_link": true
    },
    "kernelspec": {
      "name": "python3",
      "display_name": "Python 3"
    },
    "language_info": {
      "name": "python"
    }
  },
  "cells": [
    {
      "cell_type": "markdown",
      "metadata": {
        "id": "view-in-github",
        "colab_type": "text"
      },
      "source": [
        "<a href=\"https://colab.research.google.com/github/Chanwhistle/Transformer_Reimplementation/blob/main/Dataset_exploration.ipynb\" target=\"_parent\"><img src=\"https://colab.research.google.com/assets/colab-badge.svg\" alt=\"Open In Colab\"/></a>"
      ]
    },
    {
      "cell_type": "code",
      "execution_count": null,
      "metadata": {
        "id": "O0Q1XEyHt0bk",
        "outputId": "ed326ea0-191f-4e22-cf69-38252305df6a",
        "colab": {
          "base_uri": "https://localhost:8080/"
        }
      },
      "outputs": [
        {
          "output_type": "stream",
          "name": "stdout",
          "text": [
            "Mounted at /content/drive\n"
          ]
        }
      ],
      "source": [
        "# Drive mounting\n",
        "\n",
        "from google.colab import drive\n",
        "_mnt_path = '/content/drive'\n",
        "_current_path = f'{_mnt_path}/MyDrive/Transformer_Reimple'\n",
        "drive.mount(_mnt_path)"
      ]
    },
    {
      "cell_type": "code",
      "source": [
        "# import packages\n",
        "\n",
        "import pandas as pd"
      ],
      "metadata": {
        "id": "8aZqOMt9t2zR"
      },
      "execution_count": null,
      "outputs": []
    },
    {
      "cell_type": "code",
      "source": [],
      "metadata": {
        "id": "ds98xrUju9ek"
      },
      "execution_count": null,
      "outputs": []
    }
  ]
}